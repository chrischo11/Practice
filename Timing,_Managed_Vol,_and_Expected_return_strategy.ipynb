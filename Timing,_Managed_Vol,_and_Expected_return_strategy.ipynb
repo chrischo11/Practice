{
  "cells": [
    {
      "cell_type": "markdown",
      "metadata": {
        "id": "view-in-github",
        "colab_type": "text"
      },
      "source": [
        "<a href=\"https://colab.research.google.com/github/chrischo11/Quant-Investment/blob/main/Timing%2C_Managed_Vol%2C_and_Expected_return_strategy.ipynb\" target=\"_parent\"><img src=\"https://colab.research.google.com/assets/colab-badge.svg\" alt=\"Open In Colab\"/></a>"
      ]
    },
    {
      "cell_type": "code",
      "execution_count": null,
      "id": "6a74a501",
      "metadata": {
        "id": "6a74a501"
      },
      "outputs": [],
      "source": [
        "import pandas as pd\n",
        "import numpy as np\n",
        "import statsmodels.formula.api as smf\n",
        "import datetime as dt\n",
        "import matplotlib.pyplot as plt\n",
        "from plotnine import *"
      ]
    },
    {
      "cell_type": "markdown",
      "id": "6355c9bd",
      "metadata": {
        "id": "6355c9bd"
      },
      "source": [
        "### Faber's Timing strategy Backtesting"
      ]
    },
    {
      "cell_type": "code",
      "execution_count": null,
      "id": "45191f63",
      "metadata": {
        "id": "45191f63"
      },
      "outputs": [],
      "source": [
        "russell = pd.read_csv('russell_adjclose.csv',  parse_dates=[0], index_col=[0])\n",
        "irx = pd.read_csv('^IRX.csv',  parse_dates=[0], index_col=[0])"
      ]
    },
    {
      "cell_type": "code",
      "execution_count": null,
      "id": "6927102f",
      "metadata": {
        "id": "6927102f"
      },
      "outputs": [],
      "source": [
        "#Compute daily return percentage\n",
        "russell['Ret IWF'] = russell['IWF'].pct_change()\n",
        "russell['Ret IWD'] = russell['IWD'].pct_change()\n",
        "russell['Ret IWO'] = russell['IWO'].pct_change()\n",
        "russell['Ret IWN'] = russell['IWN'].pct_change()"
      ]
    },
    {
      "cell_type": "code",
      "execution_count": null,
      "id": "0320cede",
      "metadata": {
        "id": "0320cede"
      },
      "outputs": [],
      "source": [
        "#Get Tbill yield\n",
        "russell['Tbill yield'] = irx['Close']\n",
        "russell['Tbill yield filled'] = russell['Tbill yield'].fillna(method='ffill')"
      ]
    },
    {
      "cell_type": "code",
      "execution_count": null,
      "id": "38cead17",
      "metadata": {
        "id": "38cead17"
      },
      "outputs": [],
      "source": [
        "#Get interval between trading days\n",
        "russell['dow'] = russell.index.dayofweek\n",
        "russell['lagdow'] = russell['dow'].shift()\n",
        "russell['numdays'] = 1\n",
        "russell.loc[russell['dow'] > (russell['lagdow']+1), 'numdays'] = russell['dow'] - russell['lagdow']\n",
        "russell.loc[russell['dow'] < russell['lagdow'], 'numdays'] = 3 + russell['dow'] + (4 - russell['lagdow'])\n",
        "russell.loc['2001-09-17','numdays'] = 7"
      ]
    },
    {
      "cell_type": "code",
      "execution_count": null,
      "id": "cf67bd2b",
      "metadata": {
        "id": "cf67bd2b"
      },
      "outputs": [],
      "source": [
        "russell['Tbill ret'] = russell['Tbill yield filled'].shift() * russell['numdays'] / 365 / 100\n",
        "russell = russell.drop(['Tbill yield','dow','lagdow'],axis = 1)"
      ]
    },
    {
      "cell_type": "code",
      "execution_count": null,
      "id": "ccd809c9",
      "metadata": {
        "id": "ccd809c9"
      },
      "outputs": [],
      "source": [
        "#Compute excess returns\n",
        "russell['Excess ret IWF'] = russell['Ret IWF'] - russell['Tbill ret']\n",
        "russell['Excess ret IWD'] = russell['Ret IWD'] - russell['Tbill ret']\n",
        "russell['Excess ret IWO'] = russell['Ret IWO'] - russell['Tbill ret']\n",
        "russell['Excess ret IWN'] = russell['Ret IWN'] - russell['Tbill ret']"
      ]
    },
    {
      "cell_type": "code",
      "execution_count": null,
      "id": "221f5a8f",
      "metadata": {
        "id": "221f5a8f",
        "outputId": "5f0d1e6a-f350-48db-d870-ae5e2099cf43"
      },
      "outputs": [
        {
          "data": {
            "text/html": [
              "<div>\n",
              "<style scoped>\n",
              "    .dataframe tbody tr th:only-of-type {\n",
              "        vertical-align: middle;\n",
              "    }\n",
              "\n",
              "    .dataframe tbody tr th {\n",
              "        vertical-align: top;\n",
              "    }\n",
              "\n",
              "    .dataframe thead th {\n",
              "        text-align: right;\n",
              "    }\n",
              "</style>\n",
              "<table border=\"1\" class=\"dataframe\">\n",
              "  <thead>\n",
              "    <tr style=\"text-align: right;\">\n",
              "      <th></th>\n",
              "      <th>Excess ret IWF</th>\n",
              "      <th>Excess ret IWD</th>\n",
              "      <th>Excess ret IWO</th>\n",
              "      <th>Excess ret IWN</th>\n",
              "    </tr>\n",
              "  </thead>\n",
              "  <tbody>\n",
              "    <tr>\n",
              "      <th>count</th>\n",
              "      <td>5574.000000</td>\n",
              "      <td>5574.000000</td>\n",
              "      <td>5574.000000</td>\n",
              "      <td>5574.000000</td>\n",
              "    </tr>\n",
              "    <tr>\n",
              "      <th>mean</th>\n",
              "      <td>0.000252</td>\n",
              "      <td>0.000283</td>\n",
              "      <td>0.000280</td>\n",
              "      <td>0.000380</td>\n",
              "    </tr>\n",
              "    <tr>\n",
              "      <th>std</th>\n",
              "      <td>0.013201</td>\n",
              "      <td>0.012447</td>\n",
              "      <td>0.016044</td>\n",
              "      <td>0.015184</td>\n",
              "    </tr>\n",
              "    <tr>\n",
              "      <th>min</th>\n",
              "      <td>-0.117904</td>\n",
              "      <td>-0.116986</td>\n",
              "      <td>-0.127073</td>\n",
              "      <td>-0.131221</td>\n",
              "    </tr>\n",
              "    <tr>\n",
              "      <th>25%</th>\n",
              "      <td>-0.005261</td>\n",
              "      <td>-0.004439</td>\n",
              "      <td>-0.007934</td>\n",
              "      <td>-0.006926</td>\n",
              "    </tr>\n",
              "    <tr>\n",
              "      <th>50%</th>\n",
              "      <td>0.000751</td>\n",
              "      <td>0.000656</td>\n",
              "      <td>0.000990</td>\n",
              "      <td>0.000691</td>\n",
              "    </tr>\n",
              "    <tr>\n",
              "      <th>75%</th>\n",
              "      <td>0.006306</td>\n",
              "      <td>0.005860</td>\n",
              "      <td>0.008874</td>\n",
              "      <td>0.008037</td>\n",
              "    </tr>\n",
              "    <tr>\n",
              "      <th>max</th>\n",
              "      <td>0.123076</td>\n",
              "      <td>0.128289</td>\n",
              "      <td>0.109422</td>\n",
              "      <td>0.094851</td>\n",
              "    </tr>\n",
              "  </tbody>\n",
              "</table>\n",
              "</div>"
            ],
            "text/plain": [
              "       Excess ret IWF  Excess ret IWD  Excess ret IWO  Excess ret IWN\n",
              "count     5574.000000     5574.000000     5574.000000     5574.000000\n",
              "mean         0.000252        0.000283        0.000280        0.000380\n",
              "std          0.013201        0.012447        0.016044        0.015184\n",
              "min         -0.117904       -0.116986       -0.127073       -0.131221\n",
              "25%         -0.005261       -0.004439       -0.007934       -0.006926\n",
              "50%          0.000751        0.000656        0.000990        0.000691\n",
              "75%          0.006306        0.005860        0.008874        0.008037\n",
              "max          0.123076        0.128289        0.109422        0.094851"
            ]
          },
          "execution_count": 8,
          "metadata": {},
          "output_type": "execute_result"
        }
      ],
      "source": [
        "#Check status\n",
        "russell[['Excess ret IWF','Excess ret IWD','Excess ret IWO','Excess ret IWN']].describe()"
      ]
    },
    {
      "cell_type": "code",
      "execution_count": null,
      "id": "39958410",
      "metadata": {
        "id": "39958410"
      },
      "outputs": [],
      "source": [
        "#Compute rolling MA\n",
        "russell['ma200 IWF'] = russell['IWF'].rolling(200).mean()\n",
        "russell['ma200 IWD'] = russell['IWD'].rolling(200).mean()\n",
        "russell['ma200 IWO'] = russell['IWO'].rolling(200).mean()\n",
        "russell['ma200 IWN'] = russell['IWN'].rolling(200).mean()"
      ]
    },
    {
      "cell_type": "code",
      "execution_count": null,
      "id": "294e08b7",
      "metadata": {
        "id": "294e08b7"
      },
      "outputs": [],
      "source": [
        "#Decide weight by comparing Adj close prices with MA200 (Both prices from 1 trading day before deciding weight)\n",
        "russell.loc[russell['IWF'].shift() > russell['ma200 IWF'].shift(), 'weight IWF'] = 0.25\n",
        "russell.loc[russell['IWF'].shift() < russell['ma200 IWF'].shift(), 'weight IWF'] = 0\n",
        "russell.loc[russell['IWD'].shift() > russell['ma200 IWD'].shift(), 'weight IWD'] = 0.25\n",
        "russell.loc[russell['IWD'].shift() < russell['ma200 IWD'].shift(), 'weight IWD'] = 0\n",
        "russell.loc[russell['IWO'].shift() > russell['ma200 IWO'].shift(), 'weight IWO'] = 0.25\n",
        "russell.loc[russell['IWO'].shift() < russell['ma200 IWO'].shift(), 'weight IWO'] = 0\n",
        "russell.loc[russell['IWN'].shift() > russell['ma200 IWN'].shift(), 'weight IWN'] = 0.25\n",
        "russell.loc[russell['IWN'].shift() < russell['ma200 IWN'].shift(), 'weight IWN'] = 0"
      ]
    },
    {
      "cell_type": "code",
      "execution_count": null,
      "id": "bee23fec",
      "metadata": {
        "id": "bee23fec"
      },
      "outputs": [],
      "source": [
        "#Compute portfolio1's excess returns\n",
        "russell['Portfolio1 excess ret'] = (russell['Excess ret IWF'] * russell['weight IWF'] + russell['Excess ret IWD'] * russell['weight IWD'] + russell['Excess ret IWO'] * russell['weight IWO'] + russell['Excess ret IWN'] * russell['weight IWN']) "
      ]
    },
    {
      "cell_type": "markdown",
      "id": "680843ba",
      "metadata": {
        "id": "680843ba"
      },
      "source": [
        "The above calculation takes an assumption that the excess return on \"cash\" is zero. It means that cash is invested at a Risk-free rate, and that we're investing in a unit portfolio. (sum of w = 1) In other words, when we invest less than 100% in the targeted asset, the remaining portion of the portfolio is invested at a Risk-free rate."
      ]
    },
    {
      "cell_type": "code",
      "execution_count": null,
      "id": "473e2cd7",
      "metadata": {
        "id": "473e2cd7"
      },
      "outputs": [],
      "source": [
        "#Compute portfolio2's (Buy and Hold for 25% each) total returns based on weights\n",
        "russell['Portfolio2 ret'] = (russell['Ret IWF'] * 0.25 + russell['Ret IWD'] * 0.25 + russell['Ret IWO'] * 0.25 + russell['Ret IWN'] * 0.25)"
      ]
    },
    {
      "cell_type": "code",
      "execution_count": null,
      "id": "2243806e",
      "metadata": {
        "id": "2243806e"
      },
      "outputs": [],
      "source": [
        "#Compute portfolio2's excess returns\n",
        "russell['Portfolio2 excess ret'] = russell['Portfolio2 ret'] - russell['Tbill ret']"
      ]
    },
    {
      "cell_type": "code",
      "execution_count": null,
      "id": "f8a896ec",
      "metadata": {
        "id": "f8a896ec",
        "outputId": "04acd90b-d2b2-4d04-f0cd-902588a55b66"
      },
      "outputs": [
        {
          "data": {
            "text/html": [
              "<div>\n",
              "<style scoped>\n",
              "    .dataframe tbody tr th:only-of-type {\n",
              "        vertical-align: middle;\n",
              "    }\n",
              "\n",
              "    .dataframe tbody tr th {\n",
              "        vertical-align: top;\n",
              "    }\n",
              "\n",
              "    .dataframe thead th {\n",
              "        text-align: right;\n",
              "    }\n",
              "</style>\n",
              "<table border=\"1\" class=\"dataframe\">\n",
              "  <thead>\n",
              "    <tr style=\"text-align: right;\">\n",
              "      <th></th>\n",
              "      <th>Portfolio1 excess ret</th>\n",
              "    </tr>\n",
              "  </thead>\n",
              "  <tbody>\n",
              "    <tr>\n",
              "      <th>count</th>\n",
              "      <td>5375.000000</td>\n",
              "    </tr>\n",
              "    <tr>\n",
              "      <th>mean</th>\n",
              "      <td>0.000224</td>\n",
              "    </tr>\n",
              "    <tr>\n",
              "      <th>std</th>\n",
              "      <td>0.007341</td>\n",
              "    </tr>\n",
              "    <tr>\n",
              "      <th>min</th>\n",
              "      <td>-0.043781</td>\n",
              "    </tr>\n",
              "    <tr>\n",
              "      <th>25%</th>\n",
              "      <td>-0.002578</td>\n",
              "    </tr>\n",
              "    <tr>\n",
              "      <th>50%</th>\n",
              "      <td>0.000000</td>\n",
              "    </tr>\n",
              "    <tr>\n",
              "      <th>75%</th>\n",
              "      <td>0.003722</td>\n",
              "    </tr>\n",
              "    <tr>\n",
              "      <th>max</th>\n",
              "      <td>0.050407</td>\n",
              "    </tr>\n",
              "  </tbody>\n",
              "</table>\n",
              "</div>"
            ],
            "text/plain": [
              "       Portfolio1 excess ret\n",
              "count            5375.000000\n",
              "mean                0.000224\n",
              "std                 0.007341\n",
              "min                -0.043781\n",
              "25%                -0.002578\n",
              "50%                 0.000000\n",
              "75%                 0.003722\n",
              "max                 0.050407"
            ]
          },
          "execution_count": 14,
          "metadata": {},
          "output_type": "execute_result"
        }
      ],
      "source": [
        "stat1 = russell[['Portfolio1 excess ret']].describe()\n",
        "stat1"
      ]
    },
    {
      "cell_type": "code",
      "execution_count": null,
      "id": "88ce0bc2",
      "metadata": {
        "id": "88ce0bc2",
        "outputId": "0d61b004-ff67-48f9-dd4d-d8b0dca97931"
      },
      "outputs": [
        {
          "data": {
            "text/plain": [
              "0.00022412617105674735"
            ]
          },
          "execution_count": 15,
          "metadata": {},
          "output_type": "execute_result"
        }
      ],
      "source": [
        "stat1.loc['mean']['Portfolio1 excess ret']"
      ]
    },
    {
      "cell_type": "code",
      "execution_count": null,
      "id": "c4dd2001",
      "metadata": {
        "id": "c4dd2001",
        "outputId": "bfe80315-752b-4372-9b09-f6fdc22263bf"
      },
      "outputs": [
        {
          "data": {
            "text/plain": [
              "0.059169309158981304"
            ]
          },
          "execution_count": 16,
          "metadata": {},
          "output_type": "execute_result"
        }
      ],
      "source": [
        "stat1.loc['mean']['Portfolio1 excess ret'] * 264"
      ]
    },
    {
      "cell_type": "code",
      "execution_count": null,
      "id": "00c021ec",
      "metadata": {
        "id": "00c021ec",
        "outputId": "1627f571-bdb2-4100-f898-b3ed779c43d1"
      },
      "outputs": [
        {
          "data": {
            "text/plain": [
              "0.007341353076471381"
            ]
          },
          "execution_count": 17,
          "metadata": {},
          "output_type": "execute_result"
        }
      ],
      "source": [
        "stat1.loc['std']['Portfolio1 excess ret']"
      ]
    },
    {
      "cell_type": "code",
      "execution_count": null,
      "id": "249fe3d8",
      "metadata": {
        "id": "249fe3d8",
        "outputId": "dd507c92-e970-4383-b6fb-a7466b9c1ed1"
      },
      "outputs": [
        {
          "data": {
            "text/plain": [
              "0.11928286867049173"
            ]
          },
          "execution_count": 18,
          "metadata": {},
          "output_type": "execute_result"
        }
      ],
      "source": [
        "stat1.loc['std']['Portfolio1 excess ret'] * np.sqrt(264)"
      ]
    },
    {
      "cell_type": "code",
      "execution_count": null,
      "id": "e65271bd",
      "metadata": {
        "id": "e65271bd",
        "outputId": "7e996c58-1033-4d78-9cb8-25a5997d4e41"
      },
      "outputs": [
        {
          "data": {
            "text/plain": [
              "0.49604196996998146"
            ]
          },
          "execution_count": 19,
          "metadata": {},
          "output_type": "execute_result"
        }
      ],
      "source": [
        "SR1 = (stat1.loc['mean']['Portfolio1 excess ret'] * 264) / (stat1.loc['std']['Portfolio1 excess ret'] * np.sqrt(264))\n",
        "SR1"
      ]
    },
    {
      "cell_type": "markdown",
      "id": "53c02d6a",
      "metadata": {
        "id": "53c02d6a"
      },
      "source": [
        "The Performances of the Portfolio with the strategy's are as follow:\n",
        "1. Mean: Daily 0.02241%, Annual 5.91693%\n",
        "2. Standard Deviation: Daily 0.0073414, Annual 0.1192829\n",
        "3. Sharpe Ratio (Annual basis): 0.496042"
      ]
    },
    {
      "cell_type": "code",
      "execution_count": null,
      "id": "759ebe21",
      "metadata": {
        "id": "759ebe21",
        "outputId": "6e0936c4-3b71-4e00-9247-30eb1a68cd82"
      },
      "outputs": [
        {
          "data": {
            "text/html": [
              "<div>\n",
              "<style scoped>\n",
              "    .dataframe tbody tr th:only-of-type {\n",
              "        vertical-align: middle;\n",
              "    }\n",
              "\n",
              "    .dataframe tbody tr th {\n",
              "        vertical-align: top;\n",
              "    }\n",
              "\n",
              "    .dataframe thead th {\n",
              "        text-align: right;\n",
              "    }\n",
              "</style>\n",
              "<table border=\"1\" class=\"dataframe\">\n",
              "  <thead>\n",
              "    <tr style=\"text-align: right;\">\n",
              "      <th></th>\n",
              "      <th>Portfolio2 excess ret</th>\n",
              "      <th>Portfolio2 ret</th>\n",
              "    </tr>\n",
              "  </thead>\n",
              "  <tbody>\n",
              "    <tr>\n",
              "      <th>count</th>\n",
              "      <td>5375.000000</td>\n",
              "      <td>5375.000000</td>\n",
              "    </tr>\n",
              "    <tr>\n",
              "      <th>mean</th>\n",
              "      <td>0.000324</td>\n",
              "      <td>0.000373</td>\n",
              "    </tr>\n",
              "    <tr>\n",
              "      <th>std</th>\n",
              "      <td>0.013405</td>\n",
              "      <td>0.013403</td>\n",
              "    </tr>\n",
              "    <tr>\n",
              "      <th>min</th>\n",
              "      <td>-0.123296</td>\n",
              "      <td>-0.123276</td>\n",
              "    </tr>\n",
              "    <tr>\n",
              "      <th>25%</th>\n",
              "      <td>-0.005722</td>\n",
              "      <td>-0.005660</td>\n",
              "    </tr>\n",
              "    <tr>\n",
              "      <th>50%</th>\n",
              "      <td>0.000773</td>\n",
              "      <td>0.000847</td>\n",
              "    </tr>\n",
              "    <tr>\n",
              "      <th>75%</th>\n",
              "      <td>0.006915</td>\n",
              "      <td>0.006949</td>\n",
              "    </tr>\n",
              "    <tr>\n",
              "      <th>max</th>\n",
              "      <td>0.109423</td>\n",
              "      <td>0.109440</td>\n",
              "    </tr>\n",
              "  </tbody>\n",
              "</table>\n",
              "</div>"
            ],
            "text/plain": [
              "       Portfolio2 excess ret  Portfolio2 ret\n",
              "count            5375.000000     5375.000000\n",
              "mean                0.000324        0.000373\n",
              "std                 0.013405        0.013403\n",
              "min                -0.123296       -0.123276\n",
              "25%                -0.005722       -0.005660\n",
              "50%                 0.000773        0.000847\n",
              "75%                 0.006915        0.006949\n",
              "max                 0.109423        0.109440"
            ]
          },
          "execution_count": 20,
          "metadata": {},
          "output_type": "execute_result"
        }
      ],
      "source": [
        "stat2 = russell.iloc[200:][['Portfolio2 excess ret','Portfolio2 ret']].describe()\n",
        "stat2"
      ]
    },
    {
      "cell_type": "code",
      "execution_count": null,
      "id": "82d5728e",
      "metadata": {
        "id": "82d5728e",
        "outputId": "0eed2568-2de0-49bc-8ddc-591e0a590da5"
      },
      "outputs": [
        {
          "data": {
            "text/plain": [
              "0.00032447753697494887"
            ]
          },
          "execution_count": 21,
          "metadata": {},
          "output_type": "execute_result"
        }
      ],
      "source": [
        "stat2.loc['mean']['Portfolio2 excess ret']"
      ]
    },
    {
      "cell_type": "code",
      "execution_count": null,
      "id": "cc94ddb1",
      "metadata": {
        "id": "cc94ddb1",
        "outputId": "ae518bef-c8a4-4c45-c64b-dbbd2e1e0343"
      },
      "outputs": [
        {
          "data": {
            "text/plain": [
              "0.0856620697613865"
            ]
          },
          "execution_count": 22,
          "metadata": {},
          "output_type": "execute_result"
        }
      ],
      "source": [
        "stat2.loc['mean']['Portfolio2 excess ret'] * 264"
      ]
    },
    {
      "cell_type": "code",
      "execution_count": null,
      "id": "c0defdfe",
      "metadata": {
        "id": "c0defdfe",
        "outputId": "828b0a51-c4bf-47e5-e65d-c2c54b654ead"
      },
      "outputs": [
        {
          "data": {
            "text/plain": [
              "0.013405233672050801"
            ]
          },
          "execution_count": 23,
          "metadata": {},
          "output_type": "execute_result"
        }
      ],
      "source": [
        "stat2.loc['std']['Portfolio2 excess ret']"
      ]
    },
    {
      "cell_type": "code",
      "execution_count": null,
      "id": "177098fd",
      "metadata": {
        "id": "177098fd",
        "outputId": "3632a6e7-d763-44a1-e867-fe14a7791b2d"
      },
      "outputs": [
        {
          "data": {
            "text/plain": [
              "0.2178092663497197"
            ]
          },
          "execution_count": 24,
          "metadata": {},
          "output_type": "execute_result"
        }
      ],
      "source": [
        "stat2.loc['std']['Portfolio2 excess ret'] * np.sqrt(264)"
      ]
    },
    {
      "cell_type": "code",
      "execution_count": null,
      "id": "2e0d1a15",
      "metadata": {
        "id": "2e0d1a15",
        "outputId": "e774aeec-f52a-4719-b464-49e0e3bd54a0"
      },
      "outputs": [
        {
          "data": {
            "text/plain": [
              "0.39328937283983806"
            ]
          },
          "execution_count": 25,
          "metadata": {},
          "output_type": "execute_result"
        }
      ],
      "source": [
        "SR2 = (stat2.loc['mean']['Portfolio2 excess ret'] * 264) / (stat2.loc['std']['Portfolio2 excess ret'] * np.sqrt(264))\n",
        "SR2"
      ]
    },
    {
      "cell_type": "markdown",
      "id": "a64fbb60",
      "metadata": {
        "id": "a64fbb60"
      },
      "source": [
        "The Performances of the Portfolio with Buy and Hold 25% of ETF each are as follow:\n",
        "\n",
        "1. Mean: Daily 0.03245%, Annual 8.56621%\n",
        "2. Standard Deviation: Daily 0.0134052, Annual 0.2178093\n",
        "3. Sharpe Ratio (Annual basis): 0.3932894"
      ]
    },
    {
      "cell_type": "markdown",
      "id": "e8380696",
      "metadata": {
        "id": "e8380696"
      },
      "source": [
        "Conclusion:\n",
        "Even though the second portfolio's mean return is higher than that of the first one, The first portfolio's sharpe ratio is higher."
      ]
    },
    {
      "cell_type": "markdown",
      "id": "60d286f9",
      "metadata": {
        "id": "60d286f9"
      },
      "source": [
        ">Additional information (Visualization)"
      ]
    },
    {
      "cell_type": "code",
      "execution_count": null,
      "id": "d9907418",
      "metadata": {
        "id": "d9907418"
      },
      "outputs": [],
      "source": [
        "russell['Strategy'] = (1 + russell['Portfolio1 excess ret']).cumprod()\n",
        "russell['BuyandHold'] = (1 + russell['Portfolio2 excess ret']).cumprod()"
      ]
    },
    {
      "cell_type": "code",
      "execution_count": null,
      "id": "b5a795ed",
      "metadata": {
        "id": "b5a795ed",
        "outputId": "4ed151d3-baa9-41d0-d563-fabd28919b90"
      },
      "outputs": [
        {
          "data": {
            "text/plain": [
              "<AxesSubplot:xlabel='Date'>"
            ]
          },
          "execution_count": 27,
          "metadata": {},
          "output_type": "execute_result"
        },
        {
          "data": {
            "image/png": "[encoded data removed]",
            "text/plain": [
              "<Figure size 432x288 with 1 Axes>"
            ]
          },
          "metadata": {
            "needs_background": "light"
          },
          "output_type": "display_data"
        }
      ],
      "source": [
        "russell[['Strategy','BuyandHold']].plot()"
      ]
    },
    {
      "cell_type": "markdown",
      "id": "fc32f04d",
      "metadata": {
        "id": "fc32f04d"
      },
      "source": [
        "### Managed Volatility strategy backtesting"
      ]
    },
    {
      "cell_type": "code",
      "execution_count": null,
      "id": "30aa61ac",
      "metadata": {
        "id": "30aa61ac"
      },
      "outputs": [],
      "source": [
        "# read csv files\n",
        "spy = pd.read_csv('SPY.csv',  parse_dates=[0], index_col=[0])\n",
        "spy = spy[['Adj Close']]\n",
        "irx = pd.read_csv('^IRX.csv',  parse_dates=[0], index_col=[0])"
      ]
    },
    {
      "cell_type": "code",
      "execution_count": null,
      "id": "11d3c809",
      "metadata": {
        "id": "11d3c809"
      },
      "outputs": [],
      "source": [
        "# Compute Excess return on SPY\n",
        "spy['Ret'] = spy['Adj Close'].pct_change()\n",
        "\n",
        "spy['Tbill yield'] = irx['Close']\n",
        "spy['Tbill yield filled'] = spy['Tbill yield'].fillna(method='ffill')\n",
        "\n",
        "spy['DOW'] = spy.index.dayofweek\n",
        "spy['lag_dow'] = spy['DOW'].shift(1)\n",
        "spy['Diff'] = spy['DOW'] - spy['lag_dow']\n",
        "\n",
        "new = spy.loc[spy['Diff']<1][['Diff']]\n",
        "new['Diff_new'] = new['Diff'] + 7\n",
        "new.drop(columns=['Diff'], inplace=True)\n",
        "\n",
        "spy = pd.concat([spy, new.reindex(spy.index)], axis=1)\n",
        "\n",
        "spy['days'] = spy.loc[:, ['Diff', 'Diff_new']].fillna(0).max(axis=1)\n",
        "\n",
        "spy = spy[['Adj Close',\t'Ret','Tbill yield filled','days']]\n",
        "\n",
        "spy['Tbill ret'] = spy['Tbill yield filled'].shift(1) * spy['days'] / 36500\n",
        "\n",
        "spy['Excess ret'] = spy['Ret'] - spy['Tbill ret']"
      ]
    },
    {
      "cell_type": "code",
      "execution_count": null,
      "id": "5cab0faa",
      "metadata": {
        "id": "5cab0faa",
        "outputId": "eb5dcc7d-5d45-47b4-b9b3-8ad5c7ebaa21"
      },
      "outputs": [
        {
          "data": {
            "text/html": [
              "<div>\n",
              "<style scoped>\n",
              "    .dataframe tbody tr th:only-of-type {\n",
              "        vertical-align: middle;\n",
              "    }\n",
              "\n",
              "    .dataframe tbody tr th {\n",
              "        vertical-align: top;\n",
              "    }\n",
              "\n",
              "    .dataframe thead th {\n",
              "        text-align: right;\n",
              "    }\n",
              "</style>\n",
              "<table border=\"1\" class=\"dataframe\">\n",
              "  <thead>\n",
              "    <tr style=\"text-align: right;\">\n",
              "      <th></th>\n",
              "      <th>Adj Close</th>\n",
              "      <th>Ret</th>\n",
              "      <th>Tbill ret</th>\n",
              "      <th>Excess ret</th>\n",
              "    </tr>\n",
              "    <tr>\n",
              "      <th>Date</th>\n",
              "      <th></th>\n",
              "      <th></th>\n",
              "      <th></th>\n",
              "      <th></th>\n",
              "    </tr>\n",
              "  </thead>\n",
              "  <tbody>\n",
              "    <tr>\n",
              "      <th>1993-01-29</th>\n",
              "      <td>25.438087</td>\n",
              "      <td>NaN</td>\n",
              "      <td>NaN</td>\n",
              "      <td>NaN</td>\n",
              "    </tr>\n",
              "    <tr>\n",
              "      <th>1993-02-01</th>\n",
              "      <td>25.619015</td>\n",
              "      <td>0.007112</td>\n",
              "      <td>0.000238</td>\n",
              "      <td>0.006874</td>\n",
              "    </tr>\n",
              "    <tr>\n",
              "      <th>1993-02-02</th>\n",
              "      <td>25.673307</td>\n",
              "      <td>0.002119</td>\n",
              "      <td>0.000079</td>\n",
              "      <td>0.002040</td>\n",
              "    </tr>\n",
              "    <tr>\n",
              "      <th>1993-02-03</th>\n",
              "      <td>25.944698</td>\n",
              "      <td>0.010571</td>\n",
              "      <td>0.000081</td>\n",
              "      <td>0.010490</td>\n",
              "    </tr>\n",
              "    <tr>\n",
              "      <th>1993-02-04</th>\n",
              "      <td>26.053249</td>\n",
              "      <td>0.004184</td>\n",
              "      <td>0.000080</td>\n",
              "      <td>0.004104</td>\n",
              "    </tr>\n",
              "  </tbody>\n",
              "</table>\n",
              "</div>"
            ],
            "text/plain": [
              "            Adj Close       Ret  Tbill ret  Excess ret\n",
              "Date                                                  \n",
              "1993-01-29  25.438087       NaN        NaN         NaN\n",
              "1993-02-01  25.619015  0.007112   0.000238    0.006874\n",
              "1993-02-02  25.673307  0.002119   0.000079    0.002040\n",
              "1993-02-03  25.944698  0.010571   0.000081    0.010490\n",
              "1993-02-04  26.053249  0.004184   0.000080    0.004104"
            ]
          },
          "execution_count": 30,
          "metadata": {},
          "output_type": "execute_result"
        }
      ],
      "source": [
        "# Choosing useful columns \n",
        "spy = spy[['Adj Close', 'Ret', 'Tbill ret',\t'Excess ret']]\n",
        "spy.head()"
      ]
    },
    {
      "cell_type": "markdown",
      "id": "6497a678",
      "metadata": {
        "id": "6497a678"
      },
      "source": [
        "Computing 22 days rolling standard deviation of excess return"
      ]
    },
    {
      "cell_type": "code",
      "execution_count": null,
      "id": "8ef2b6bc",
      "metadata": {
        "id": "8ef2b6bc",
        "outputId": "b08f8ae4-99b6-4516-ceee-187e2c539032"
      },
      "outputs": [
        {
          "data": {
            "text/plain": [
              "0.008267902056160882"
            ]
          },
          "execution_count": 31,
          "metadata": {},
          "output_type": "execute_result"
        }
      ],
      "source": [
        "# for example 22 days rolling standard deviation of excess return\n",
        "spy.iloc[:22]['Excess ret'].std()"
      ]
    },
    {
      "cell_type": "code",
      "execution_count": null,
      "id": "75891fd8",
      "metadata": {
        "id": "75891fd8",
        "outputId": "35b6cb56-adca-421e-efd8-d6f71a29728c"
      },
      "outputs": [
        {
          "data": {
            "text/plain": [
              "7421"
            ]
          },
          "execution_count": 32,
          "metadata": {},
          "output_type": "execute_result"
        }
      ],
      "source": [
        "len(spy)"
      ]
    },
    {
      "cell_type": "code",
      "execution_count": null,
      "id": "bdc2c3c6",
      "metadata": {
        "id": "bdc2c3c6"
      },
      "outputs": [],
      "source": [
        "spy['22_Std'] = np.nan # make a column for 22 rolloing Standard deviation\n",
        "\n",
        "for t in range(22, len(spy)+1):\n",
        "    spy_22 = spy.iloc[(t-22):t] # slicing Dataframe from raw 0 to raw 21 (for 22 days) \n",
        "    rolling_std = spy_22['Excess ret'].std() # calculating the Standard deviation of each 22 days\n",
        "    spy['22_Std'].iloc[t-1] = rolling_std # insert the value to spy dataframe"
      ]
    },
    {
      "cell_type": "code",
      "execution_count": null,
      "id": "93c3376a",
      "metadata": {
        "id": "93c3376a",
        "outputId": "e5333d8e-fc0a-4f3c-bb0d-8622005e8d97"
      },
      "outputs": [
        {
          "data": {
            "text/html": [
              "<div>\n",
              "<style scoped>\n",
              "    .dataframe tbody tr th:only-of-type {\n",
              "        vertical-align: middle;\n",
              "    }\n",
              "\n",
              "    .dataframe tbody tr th {\n",
              "        vertical-align: top;\n",
              "    }\n",
              "\n",
              "    .dataframe thead th {\n",
              "        text-align: right;\n",
              "    }\n",
              "</style>\n",
              "<table border=\"1\" class=\"dataframe\">\n",
              "  <thead>\n",
              "    <tr style=\"text-align: right;\">\n",
              "      <th></th>\n",
              "      <th>Adj Close</th>\n",
              "      <th>Ret</th>\n",
              "      <th>Tbill ret</th>\n",
              "      <th>Excess ret</th>\n",
              "      <th>22_Std</th>\n",
              "    </tr>\n",
              "    <tr>\n",
              "      <th>Date</th>\n",
              "      <th></th>\n",
              "      <th></th>\n",
              "      <th></th>\n",
              "      <th></th>\n",
              "      <th></th>\n",
              "    </tr>\n",
              "  </thead>\n",
              "  <tbody>\n",
              "    <tr>\n",
              "      <th>2022-07-13</th>\n",
              "      <td>378.829987</td>\n",
              "      <td>-0.005252</td>\n",
              "      <td>0.000058</td>\n",
              "      <td>-0.005310</td>\n",
              "      <td>0.017332</td>\n",
              "    </tr>\n",
              "    <tr>\n",
              "      <th>2022-07-14</th>\n",
              "      <td>377.910004</td>\n",
              "      <td>-0.002428</td>\n",
              "      <td>0.000064</td>\n",
              "      <td>-0.002492</td>\n",
              "      <td>0.016279</td>\n",
              "    </tr>\n",
              "    <tr>\n",
              "      <th>2022-07-15</th>\n",
              "      <td>385.130005</td>\n",
              "      <td>0.019105</td>\n",
              "      <td>0.000062</td>\n",
              "      <td>0.019043</td>\n",
              "      <td>0.014576</td>\n",
              "    </tr>\n",
              "    <tr>\n",
              "      <th>2022-07-18</th>\n",
              "      <td>381.950012</td>\n",
              "      <td>-0.008257</td>\n",
              "      <td>0.000184</td>\n",
              "      <td>-0.008441</td>\n",
              "      <td>0.014700</td>\n",
              "    </tr>\n",
              "    <tr>\n",
              "      <th>2022-07-19</th>\n",
              "      <td>392.269989</td>\n",
              "      <td>0.027019</td>\n",
              "      <td>0.000062</td>\n",
              "      <td>0.026957</td>\n",
              "      <td>0.015469</td>\n",
              "    </tr>\n",
              "  </tbody>\n",
              "</table>\n",
              "</div>"
            ],
            "text/plain": [
              "             Adj Close       Ret  Tbill ret  Excess ret    22_Std\n",
              "Date                                                             \n",
              "2022-07-13  378.829987 -0.005252   0.000058   -0.005310  0.017332\n",
              "2022-07-14  377.910004 -0.002428   0.000064   -0.002492  0.016279\n",
              "2022-07-15  385.130005  0.019105   0.000062    0.019043  0.014576\n",
              "2022-07-18  381.950012 -0.008257   0.000184   -0.008441  0.014700\n",
              "2022-07-19  392.269989  0.027019   0.000062    0.026957  0.015469"
            ]
          },
          "execution_count": 34,
          "metadata": {},
          "output_type": "execute_result"
        }
      ],
      "source": [
        "# check the current status of our dataframe\n",
        "spy.tail()"
      ]
    },
    {
      "cell_type": "code",
      "execution_count": null,
      "id": "0fee5757",
      "metadata": {
        "id": "0fee5757"
      },
      "outputs": [],
      "source": [
        "# calculating the weight of Managed volatility portfolio\n",
        "spy['weight'] = 0.01/spy['22_Std'].shift(1)"
      ]
    },
    {
      "cell_type": "code",
      "execution_count": null,
      "id": "672176fd",
      "metadata": {
        "id": "672176fd"
      },
      "outputs": [],
      "source": [
        "# caluating the return of Managed volatilty portfolio\n",
        "spy['RP'] = spy['weight'] * spy['Ret']"
      ]
    },
    {
      "cell_type": "code",
      "execution_count": null,
      "id": "77fa96e2",
      "metadata": {
        "id": "77fa96e2",
        "outputId": "4d9775a5-a250-4858-c51c-0f19462ca0c6"
      },
      "outputs": [
        {
          "data": {
            "text/html": [
              "<div>\n",
              "<style scoped>\n",
              "    .dataframe tbody tr th:only-of-type {\n",
              "        vertical-align: middle;\n",
              "    }\n",
              "\n",
              "    .dataframe tbody tr th {\n",
              "        vertical-align: top;\n",
              "    }\n",
              "\n",
              "    .dataframe thead th {\n",
              "        text-align: right;\n",
              "    }\n",
              "</style>\n",
              "<table border=\"1\" class=\"dataframe\">\n",
              "  <thead>\n",
              "    <tr style=\"text-align: right;\">\n",
              "      <th></th>\n",
              "      <th>Adj Close</th>\n",
              "      <th>Ret</th>\n",
              "      <th>Tbill ret</th>\n",
              "      <th>Excess ret</th>\n",
              "      <th>22_Std</th>\n",
              "      <th>weight</th>\n",
              "      <th>RP</th>\n",
              "    </tr>\n",
              "    <tr>\n",
              "      <th>Date</th>\n",
              "      <th></th>\n",
              "      <th></th>\n",
              "      <th></th>\n",
              "      <th></th>\n",
              "      <th></th>\n",
              "      <th></th>\n",
              "      <th></th>\n",
              "    </tr>\n",
              "  </thead>\n",
              "  <tbody>\n",
              "    <tr>\n",
              "      <th>1993-02-25</th>\n",
              "      <td>25.673307</td>\n",
              "      <td>0.002119</td>\n",
              "      <td>0.000081</td>\n",
              "      <td>0.002038</td>\n",
              "      <td>NaN</td>\n",
              "      <td>NaN</td>\n",
              "      <td>NaN</td>\n",
              "    </tr>\n",
              "    <tr>\n",
              "      <th>1993-02-26</th>\n",
              "      <td>25.709465</td>\n",
              "      <td>0.001408</td>\n",
              "      <td>0.000081</td>\n",
              "      <td>0.001328</td>\n",
              "      <td>NaN</td>\n",
              "      <td>NaN</td>\n",
              "      <td>NaN</td>\n",
              "    </tr>\n",
              "    <tr>\n",
              "      <th>1993-03-01</th>\n",
              "      <td>25.637117</td>\n",
              "      <td>-0.002814</td>\n",
              "      <td>0.000242</td>\n",
              "      <td>-0.003057</td>\n",
              "      <td>NaN</td>\n",
              "      <td>NaN</td>\n",
              "      <td>NaN</td>\n",
              "    </tr>\n",
              "    <tr>\n",
              "      <th>1993-03-02</th>\n",
              "      <td>26.017067</td>\n",
              "      <td>0.014820</td>\n",
              "      <td>0.000081</td>\n",
              "      <td>0.014739</td>\n",
              "      <td>0.008268</td>\n",
              "      <td>NaN</td>\n",
              "      <td>NaN</td>\n",
              "    </tr>\n",
              "    <tr>\n",
              "      <th>1993-03-03</th>\n",
              "      <td>26.125603</td>\n",
              "      <td>0.004172</td>\n",
              "      <td>0.000081</td>\n",
              "      <td>0.004090</td>\n",
              "      <td>0.008096</td>\n",
              "      <td>1.209497</td>\n",
              "      <td>0.005046</td>\n",
              "    </tr>\n",
              "    <tr>\n",
              "      <th>...</th>\n",
              "      <td>...</td>\n",
              "      <td>...</td>\n",
              "      <td>...</td>\n",
              "      <td>...</td>\n",
              "      <td>...</td>\n",
              "      <td>...</td>\n",
              "      <td>...</td>\n",
              "    </tr>\n",
              "    <tr>\n",
              "      <th>2022-07-13</th>\n",
              "      <td>378.829987</td>\n",
              "      <td>-0.005252</td>\n",
              "      <td>0.000058</td>\n",
              "      <td>-0.005310</td>\n",
              "      <td>0.017332</td>\n",
              "      <td>0.557994</td>\n",
              "      <td>-0.002930</td>\n",
              "    </tr>\n",
              "    <tr>\n",
              "      <th>2022-07-14</th>\n",
              "      <td>377.910004</td>\n",
              "      <td>-0.002428</td>\n",
              "      <td>0.000064</td>\n",
              "      <td>-0.002492</td>\n",
              "      <td>0.016279</td>\n",
              "      <td>0.576959</td>\n",
              "      <td>-0.001401</td>\n",
              "    </tr>\n",
              "    <tr>\n",
              "      <th>2022-07-15</th>\n",
              "      <td>385.130005</td>\n",
              "      <td>0.019105</td>\n",
              "      <td>0.000062</td>\n",
              "      <td>0.019043</td>\n",
              "      <td>0.014576</td>\n",
              "      <td>0.614278</td>\n",
              "      <td>0.011736</td>\n",
              "    </tr>\n",
              "    <tr>\n",
              "      <th>2022-07-18</th>\n",
              "      <td>381.950012</td>\n",
              "      <td>-0.008257</td>\n",
              "      <td>0.000184</td>\n",
              "      <td>-0.008441</td>\n",
              "      <td>0.014700</td>\n",
              "      <td>0.686043</td>\n",
              "      <td>-0.005665</td>\n",
              "    </tr>\n",
              "    <tr>\n",
              "      <th>2022-07-19</th>\n",
              "      <td>392.269989</td>\n",
              "      <td>0.027019</td>\n",
              "      <td>0.000062</td>\n",
              "      <td>0.026957</td>\n",
              "      <td>0.015469</td>\n",
              "      <td>0.680264</td>\n",
              "      <td>0.018380</td>\n",
              "    </tr>\n",
              "  </tbody>\n",
              "</table>\n",
              "<p>7403 rows × 7 columns</p>\n",
              "</div>"
            ],
            "text/plain": [
              "             Adj Close       Ret  Tbill ret  Excess ret    22_Std    weight  \\\n",
              "Date                                                                          \n",
              "1993-02-25   25.673307  0.002119   0.000081    0.002038       NaN       NaN   \n",
              "1993-02-26   25.709465  0.001408   0.000081    0.001328       NaN       NaN   \n",
              "1993-03-01   25.637117 -0.002814   0.000242   -0.003057       NaN       NaN   \n",
              "1993-03-02   26.017067  0.014820   0.000081    0.014739  0.008268       NaN   \n",
              "1993-03-03   26.125603  0.004172   0.000081    0.004090  0.008096  1.209497   \n",
              "...                ...       ...        ...         ...       ...       ...   \n",
              "2022-07-13  378.829987 -0.005252   0.000058   -0.005310  0.017332  0.557994   \n",
              "2022-07-14  377.910004 -0.002428   0.000064   -0.002492  0.016279  0.576959   \n",
              "2022-07-15  385.130005  0.019105   0.000062    0.019043  0.014576  0.614278   \n",
              "2022-07-18  381.950012 -0.008257   0.000184   -0.008441  0.014700  0.686043   \n",
              "2022-07-19  392.269989  0.027019   0.000062    0.026957  0.015469  0.680264   \n",
              "\n",
              "                  RP  \n",
              "Date                  \n",
              "1993-02-25       NaN  \n",
              "1993-02-26       NaN  \n",
              "1993-03-01       NaN  \n",
              "1993-03-02       NaN  \n",
              "1993-03-03  0.005046  \n",
              "...              ...  \n",
              "2022-07-13 -0.002930  \n",
              "2022-07-14 -0.001401  \n",
              "2022-07-15  0.011736  \n",
              "2022-07-18 -0.005665  \n",
              "2022-07-19  0.018380  \n",
              "\n",
              "[7403 rows x 7 columns]"
            ]
          },
          "execution_count": 37,
          "metadata": {},
          "output_type": "execute_result"
        }
      ],
      "source": [
        "spy.iloc[18:]"
      ]
    },
    {
      "cell_type": "code",
      "execution_count": null,
      "id": "25170cfb",
      "metadata": {
        "id": "25170cfb",
        "outputId": "6dafc369-6c0f-4d8a-a7b4-128cb9af30fa"
      },
      "outputs": [
        {
          "data": {
            "text/html": [
              "<div>\n",
              "<style scoped>\n",
              "    .dataframe tbody tr th:only-of-type {\n",
              "        vertical-align: middle;\n",
              "    }\n",
              "\n",
              "    .dataframe tbody tr th {\n",
              "        vertical-align: top;\n",
              "    }\n",
              "\n",
              "    .dataframe thead th {\n",
              "        text-align: right;\n",
              "    }\n",
              "</style>\n",
              "<table border=\"1\" class=\"dataframe\">\n",
              "  <thead>\n",
              "    <tr style=\"text-align: right;\">\n",
              "      <th></th>\n",
              "      <th>RP</th>\n",
              "      <th>Ret</th>\n",
              "    </tr>\n",
              "  </thead>\n",
              "  <tbody>\n",
              "    <tr>\n",
              "      <th>count</th>\n",
              "      <td>7399.000000</td>\n",
              "      <td>7399.000000</td>\n",
              "    </tr>\n",
              "    <tr>\n",
              "      <th>mean</th>\n",
              "      <td>0.000503</td>\n",
              "      <td>0.000437</td>\n",
              "    </tr>\n",
              "    <tr>\n",
              "      <th>std</th>\n",
              "      <td>0.011068</td>\n",
              "      <td>0.011883</td>\n",
              "    </tr>\n",
              "    <tr>\n",
              "      <th>min</th>\n",
              "      <td>-0.083518</td>\n",
              "      <td>-0.109424</td>\n",
              "    </tr>\n",
              "    <tr>\n",
              "      <th>25%</th>\n",
              "      <td>-0.005181</td>\n",
              "      <td>-0.004393</td>\n",
              "    </tr>\n",
              "    <tr>\n",
              "      <th>50%</th>\n",
              "      <td>0.000887</td>\n",
              "      <td>0.000677</td>\n",
              "    </tr>\n",
              "    <tr>\n",
              "      <th>75%</th>\n",
              "      <td>0.006835</td>\n",
              "      <td>0.005917</td>\n",
              "    </tr>\n",
              "    <tr>\n",
              "      <th>max</th>\n",
              "      <td>0.055938</td>\n",
              "      <td>0.145198</td>\n",
              "    </tr>\n",
              "  </tbody>\n",
              "</table>\n",
              "</div>"
            ],
            "text/plain": [
              "                RP          Ret\n",
              "count  7399.000000  7399.000000\n",
              "mean      0.000503     0.000437\n",
              "std       0.011068     0.011883\n",
              "min      -0.083518    -0.109424\n",
              "25%      -0.005181    -0.004393\n",
              "50%       0.000887     0.000677\n",
              "75%       0.006835     0.005917\n",
              "max       0.055938     0.145198"
            ]
          },
          "execution_count": 38,
          "metadata": {},
          "output_type": "execute_result"
        }
      ],
      "source": [
        "# Compare the mean and standard deviation of Managed vol port to a buy and hold position\n",
        "# We assess these strategies starting from December of 1959, where m(t) exist.\n",
        "spy.iloc[22:][['RP', 'Ret']].describe()"
      ]
    },
    {
      "cell_type": "markdown",
      "id": "7518f64b",
      "metadata": {
        "id": "7518f64b"
      },
      "source": [
        "#### Managed volatility strategy \n",
        " * Daily return mean : 0.0502% \n",
        " * Daily standard deviation : 0.011066 <br>\n",
        "<br>\n",
        "#### Buy & Hold strategy\n",
        " * Daily return mean : 0.0437%\n",
        " * Daily standard deviation : 0.011881"
      ]
    },
    {
      "cell_type": "code",
      "execution_count": null,
      "id": "a0a86caa",
      "metadata": {
        "id": "a0a86caa"
      },
      "outputs": [],
      "source": [
        "# Calculating 264-day rolling standard deviations\n",
        "\n",
        "spy['264_std_port'] = np.nan\n",
        "spy['264_std_spy'] = np.nan\n",
        "\n",
        "for t in range(264, len(spy)+1):\n",
        "    spy_264 = spy.iloc[(t-264):t] \n",
        "    std_port = spy_264['RP'].std()\n",
        "    spy['264_std_port'].iloc[t-1] = std_port\n",
        "    std_spy = spy_264['Ret'].std()\n",
        "    spy['264_std_spy'].iloc[t-1] = std_spy"
      ]
    },
    {
      "cell_type": "code",
      "execution_count": null,
      "id": "dad631d0",
      "metadata": {
        "id": "dad631d0",
        "outputId": "c2902f65-ee8c-4402-b2b1-34d378b9c375"
      },
      "outputs": [
        {
          "name": "stderr",
          "output_type": "stream",
          "text": [
            "C:\\Users\\Legion\\AppData\\Roaming\\Python\\Python39\\site-packages\\plotnine\\geoms\\geom_path.py:75: PlotnineWarning: geom_path: Removed 263 rows containing missing values.\n",
            "C:\\Users\\Legion\\AppData\\Roaming\\Python\\Python39\\site-packages\\plotnine\\geoms\\geom_path.py:75: PlotnineWarning: geom_path: Removed 263 rows containing missing values.\n"
          ]
        },
        {
          "data": {
            "image/png": "[encoded data removed]",
            "text/plain": [
              "<Figure size 2000x500 with 1 Axes>"
            ]
          },
          "metadata": {},
          "output_type": "display_data"
        },
        {
          "data": {
            "text/plain": [
              "<ggplot: (153663898811)>"
            ]
          },
          "execution_count": 40,
          "metadata": {},
          "output_type": "execute_result"
        }
      ],
      "source": [
        "# ploting\n",
        "\n",
        "spy.reset_index(inplace=True)\n",
        "\n",
        "(\n",
        "   ggplot(spy, aes('Date')) + \n",
        "   geom_line(aes(y = '264_std_spy'), color='blue') + \n",
        "   geom_line(aes(y = '264_std_port'), color = 'red') +\n",
        "   labs(y = \"Volatility\", title =\"Volatility Comparison (Red: Managed vol, Blue: SPY)\") +\n",
        "   theme(figure_size=(20,5))\n",
        ") "
      ]
    },
    {
      "cell_type": "markdown",
      "id": "a9cf964e",
      "metadata": {
        "id": "a9cf964e"
      },
      "source": [
        "### Expected return calculation by using regression model\n"
      ]
    },
    {
      "cell_type": "code",
      "execution_count": null,
      "id": "fc752f65",
      "metadata": {
        "id": "fc752f65",
        "outputId": "dbcbced9-1218-4cd0-ef86-85c6d9c941af"
      },
      "outputs": [
        {
          "name": "stderr",
          "output_type": "stream",
          "text": [
            "C:\\ProgramData\\Anaconda3\\lib\\site-packages\\openpyxl\\worksheet\\header_footer.py:48: UserWarning: Cannot parse header or footer so it will be ignored\n"
          ]
        },
        {
          "data": {
            "text/html": [
              "<div>\n",
              "<style scoped>\n",
              "    .dataframe tbody tr th:only-of-type {\n",
              "        vertical-align: middle;\n",
              "    }\n",
              "\n",
              "    .dataframe tbody tr th {\n",
              "        vertical-align: top;\n",
              "    }\n",
              "\n",
              "    .dataframe thead th {\n",
              "        text-align: right;\n",
              "    }\n",
              "</style>\n",
              "<table border=\"1\" class=\"dataframe\">\n",
              "  <thead>\n",
              "    <tr style=\"text-align: right;\">\n",
              "      <th></th>\n",
              "      <th>Index</th>\n",
              "      <th>D12</th>\n",
              "      <th>E12</th>\n",
              "      <th>b/m</th>\n",
              "      <th>tbl</th>\n",
              "      <th>AAA</th>\n",
              "      <th>BAA</th>\n",
              "      <th>lty</th>\n",
              "      <th>ntis</th>\n",
              "      <th>Rfree</th>\n",
              "      <th>infl</th>\n",
              "      <th>ltr</th>\n",
              "      <th>corpr</th>\n",
              "      <th>svar</th>\n",
              "      <th>csp</th>\n",
              "      <th>CRSP_SPvw</th>\n",
              "      <th>CRSP_SPvwx</th>\n",
              "    </tr>\n",
              "    <tr>\n",
              "      <th>yyyymm</th>\n",
              "      <th></th>\n",
              "      <th></th>\n",
              "      <th></th>\n",
              "      <th></th>\n",
              "      <th></th>\n",
              "      <th></th>\n",
              "      <th></th>\n",
              "      <th></th>\n",
              "      <th></th>\n",
              "      <th></th>\n",
              "      <th></th>\n",
              "      <th></th>\n",
              "      <th></th>\n",
              "      <th></th>\n",
              "      <th></th>\n",
              "      <th></th>\n",
              "      <th></th>\n",
              "    </tr>\n",
              "  </thead>\n",
              "  <tbody>\n",
              "    <tr>\n",
              "      <th>195001</th>\n",
              "      <td>17.05</td>\n",
              "      <td>1.15</td>\n",
              "      <td>2.33667</td>\n",
              "      <td>0.791417</td>\n",
              "      <td>0.0107</td>\n",
              "      <td>0.0257</td>\n",
              "      <td>0.0324</td>\n",
              "      <td>0.0215</td>\n",
              "      <td>0.027102</td>\n",
              "      <td>0.0009</td>\n",
              "      <td>-0.004237</td>\n",
              "      <td>-0.0061</td>\n",
              "      <td>0.0037</td>\n",
              "      <td>0.000989</td>\n",
              "      <td>0.004458</td>\n",
              "      <td>0.019703</td>\n",
              "      <td>0.018245</td>\n",
              "    </tr>\n",
              "    <tr>\n",
              "      <th>195002</th>\n",
              "      <td>17.22</td>\n",
              "      <td>1.16</td>\n",
              "      <td>2.35333</td>\n",
              "      <td>0.784998</td>\n",
              "      <td>0.0112</td>\n",
              "      <td>0.0258</td>\n",
              "      <td>0.0324</td>\n",
              "      <td>0.0214</td>\n",
              "      <td>0.025492</td>\n",
              "      <td>0.0009</td>\n",
              "      <td>0.000000</td>\n",
              "      <td>0.0021</td>\n",
              "      <td>0.0007</td>\n",
              "      <td>0.000426</td>\n",
              "      <td>0.004246</td>\n",
              "      <td>0.019603</td>\n",
              "      <td>0.009975</td>\n",
              "    </tr>\n",
              "    <tr>\n",
              "      <th>195003</th>\n",
              "      <td>17.29</td>\n",
              "      <td>1.17</td>\n",
              "      <td>2.37000</td>\n",
              "      <td>0.825528</td>\n",
              "      <td>0.0112</td>\n",
              "      <td>0.0258</td>\n",
              "      <td>0.0324</td>\n",
              "      <td>0.0215</td>\n",
              "      <td>0.029291</td>\n",
              "      <td>0.0010</td>\n",
              "      <td>0.004255</td>\n",
              "      <td>0.0008</td>\n",
              "      <td>0.0022</td>\n",
              "      <td>0.000624</td>\n",
              "      <td>0.004553</td>\n",
              "      <td>0.008185</td>\n",
              "      <td>0.003542</td>\n",
              "    </tr>\n",
              "    <tr>\n",
              "      <th>195004</th>\n",
              "      <td>18.07</td>\n",
              "      <td>1.18</td>\n",
              "      <td>2.42667</td>\n",
              "      <td>0.796497</td>\n",
              "      <td>0.0115</td>\n",
              "      <td>0.0260</td>\n",
              "      <td>0.0323</td>\n",
              "      <td>0.0214</td>\n",
              "      <td>0.026398</td>\n",
              "      <td>0.0009</td>\n",
              "      <td>0.000000</td>\n",
              "      <td>0.0030</td>\n",
              "      <td>-0.0008</td>\n",
              "      <td>0.000714</td>\n",
              "      <td>0.004022</td>\n",
              "      <td>0.045887</td>\n",
              "      <td>0.044493</td>\n",
              "    </tr>\n",
              "    <tr>\n",
              "      <th>195005</th>\n",
              "      <td>18.78</td>\n",
              "      <td>1.19</td>\n",
              "      <td>2.48333</td>\n",
              "      <td>0.761346</td>\n",
              "      <td>0.0116</td>\n",
              "      <td>0.0261</td>\n",
              "      <td>0.0325</td>\n",
              "      <td>0.0213</td>\n",
              "      <td>0.028572</td>\n",
              "      <td>0.0010</td>\n",
              "      <td>0.004237</td>\n",
              "      <td>0.0033</td>\n",
              "      <td>-0.0008</td>\n",
              "      <td>0.000641</td>\n",
              "      <td>0.003803</td>\n",
              "      <td>0.046902</td>\n",
              "      <td>0.037590</td>\n",
              "    </tr>\n",
              "  </tbody>\n",
              "</table>\n",
              "</div>"
            ],
            "text/plain": [
              "        Index   D12      E12       b/m     tbl     AAA     BAA     lty  \\\n",
              "yyyymm                                                                   \n",
              "195001  17.05  1.15  2.33667  0.791417  0.0107  0.0257  0.0324  0.0215   \n",
              "195002  17.22  1.16  2.35333  0.784998  0.0112  0.0258  0.0324  0.0214   \n",
              "195003  17.29  1.17  2.37000  0.825528  0.0112  0.0258  0.0324  0.0215   \n",
              "195004  18.07  1.18  2.42667  0.796497  0.0115  0.0260  0.0323  0.0214   \n",
              "195005  18.78  1.19  2.48333  0.761346  0.0116  0.0261  0.0325  0.0213   \n",
              "\n",
              "            ntis   Rfree      infl     ltr   corpr      svar       csp  \\\n",
              "yyyymm                                                                   \n",
              "195001  0.027102  0.0009 -0.004237 -0.0061  0.0037  0.000989  0.004458   \n",
              "195002  0.025492  0.0009  0.000000  0.0021  0.0007  0.000426  0.004246   \n",
              "195003  0.029291  0.0010  0.004255  0.0008  0.0022  0.000624  0.004553   \n",
              "195004  0.026398  0.0009  0.000000  0.0030 -0.0008  0.000714  0.004022   \n",
              "195005  0.028572  0.0010  0.004237  0.0033 -0.0008  0.000641  0.003803   \n",
              "\n",
              "        CRSP_SPvw  CRSP_SPvwx  \n",
              "yyyymm                         \n",
              "195001   0.019703    0.018245  \n",
              "195002   0.019603    0.009975  \n",
              "195003   0.008185    0.003542  \n",
              "195004   0.045887    0.044493  \n",
              "195005   0.046902    0.037590  "
            ]
          },
          "execution_count": 41,
          "metadata": {},
          "output_type": "execute_result"
        }
      ],
      "source": [
        "df = pd.read_excel('PredictorData2021.xlsx',parse_dates=[0],index_col=[0])\n",
        "df = df.loc[195001:]\n",
        "df.head()"
      ]
    },
    {
      "cell_type": "code",
      "execution_count": null,
      "id": "456f6356",
      "metadata": {
        "id": "456f6356",
        "outputId": "56a13260-e606-41bb-e564-a3173a1ada83"
      },
      "outputs": [
        {
          "data": {
            "text/html": [
              "<div>\n",
              "<style scoped>\n",
              "    .dataframe tbody tr th:only-of-type {\n",
              "        vertical-align: middle;\n",
              "    }\n",
              "\n",
              "    .dataframe tbody tr th {\n",
              "        vertical-align: top;\n",
              "    }\n",
              "\n",
              "    .dataframe thead th {\n",
              "        text-align: right;\n",
              "    }\n",
              "</style>\n",
              "<table border=\"1\" class=\"dataframe\">\n",
              "  <thead>\n",
              "    <tr style=\"text-align: right;\">\n",
              "      <th></th>\n",
              "      <th>DP</th>\n",
              "      <th>TERM</th>\n",
              "      <th>DEF</th>\n",
              "      <th>ntis</th>\n",
              "      <th>excessR</th>\n",
              "    </tr>\n",
              "    <tr>\n",
              "      <th>yyyymm</th>\n",
              "      <th></th>\n",
              "      <th></th>\n",
              "      <th></th>\n",
              "      <th></th>\n",
              "      <th></th>\n",
              "    </tr>\n",
              "  </thead>\n",
              "  <tbody>\n",
              "    <tr>\n",
              "      <th>195001</th>\n",
              "      <td>0.067449</td>\n",
              "      <td>0.0108</td>\n",
              "      <td>0.0067</td>\n",
              "      <td>0.027102</td>\n",
              "      <td>0.018803</td>\n",
              "    </tr>\n",
              "    <tr>\n",
              "      <th>195002</th>\n",
              "      <td>0.067364</td>\n",
              "      <td>0.0102</td>\n",
              "      <td>0.0066</td>\n",
              "      <td>0.025492</td>\n",
              "      <td>0.018703</td>\n",
              "    </tr>\n",
              "    <tr>\n",
              "      <th>195003</th>\n",
              "      <td>0.067669</td>\n",
              "      <td>0.0103</td>\n",
              "      <td>0.0066</td>\n",
              "      <td>0.029291</td>\n",
              "      <td>0.007185</td>\n",
              "    </tr>\n",
              "    <tr>\n",
              "      <th>195004</th>\n",
              "      <td>0.065302</td>\n",
              "      <td>0.0099</td>\n",
              "      <td>0.0063</td>\n",
              "      <td>0.026398</td>\n",
              "      <td>0.044987</td>\n",
              "    </tr>\n",
              "    <tr>\n",
              "      <th>195005</th>\n",
              "      <td>0.063365</td>\n",
              "      <td>0.0097</td>\n",
              "      <td>0.0064</td>\n",
              "      <td>0.028572</td>\n",
              "      <td>0.045902</td>\n",
              "    </tr>\n",
              "  </tbody>\n",
              "</table>\n",
              "</div>"
            ],
            "text/plain": [
              "              DP    TERM     DEF      ntis   excessR\n",
              "yyyymm                                              \n",
              "195001  0.067449  0.0108  0.0067  0.027102  0.018803\n",
              "195002  0.067364  0.0102  0.0066  0.025492  0.018703\n",
              "195003  0.067669  0.0103  0.0066  0.029291  0.007185\n",
              "195004  0.065302  0.0099  0.0063  0.026398  0.044987\n",
              "195005  0.063365  0.0097  0.0064  0.028572  0.045902"
            ]
          },
          "execution_count": 42,
          "metadata": {},
          "output_type": "execute_result"
        }
      ],
      "source": [
        "# make columns for variables and extracting useful columns\n",
        "df['DP'] = df['D12'] / df['Index']\n",
        "df['TERM'] = df['lty'] - df['tbl']\n",
        "df['DEF'] = df['BAA'] - df['AAA']\n",
        "df['excessR'] = df['CRSP_SPvw'] - df['Rfree']\n",
        "df = df[['DP','TERM','DEF','ntis','excessR']]\n",
        "df.head()"
      ]
    },
    {
      "cell_type": "code",
      "execution_count": null,
      "id": "31be0a22",
      "metadata": {
        "id": "31be0a22"
      },
      "outputs": [],
      "source": [
        "# Make reversed shift of excess R (dependent variable) to build a regression.\n",
        "df['excessR_rshift'] = df['excessR'].shift(-1)"
      ]
    },
    {
      "cell_type": "code",
      "execution_count": null,
      "id": "7939782c",
      "metadata": {
        "id": "7939782c"
      },
      "outputs": [],
      "source": [
        "# Build a regression models and insert m(t) values\n",
        "df['m(t)'] = np.nan\n",
        "for t in range(119, len(df)-1):\n",
        "\n",
        "    dft = df.iloc[(t-119):t] # sling the df for each 119 months\n",
        "    regout = smf.ols('excessR_rshift ~ DP + TERM + DEF + ntis', data=dft).fit() # make a regression model with variables\n",
        "    \n",
        "    df['m(t)'].iloc[t] = regout.params[0] + regout.params[1]*df['DP'].iloc[t] + regout.params[2]*df['TERM'].iloc[t] \\\n",
        "    +regout.params[3]*df['DEF'].iloc[t] + +regout.params[4]*df['ntis'].iloc[t] # insert expected excess return from the model\n"
      ]
    },
    {
      "cell_type": "code",
      "execution_count": null,
      "id": "43ffa497",
      "metadata": {
        "id": "43ffa497",
        "outputId": "71855bbe-43a2-4523-81c8-56760708e254"
      },
      "outputs": [
        {
          "data": {
            "text/html": [
              "<div>\n",
              "<style scoped>\n",
              "    .dataframe tbody tr th:only-of-type {\n",
              "        vertical-align: middle;\n",
              "    }\n",
              "\n",
              "    .dataframe tbody tr th {\n",
              "        vertical-align: top;\n",
              "    }\n",
              "\n",
              "    .dataframe thead th {\n",
              "        text-align: right;\n",
              "    }\n",
              "</style>\n",
              "<table border=\"1\" class=\"dataframe\">\n",
              "  <thead>\n",
              "    <tr style=\"text-align: right;\">\n",
              "      <th></th>\n",
              "      <th>DP</th>\n",
              "      <th>TERM</th>\n",
              "      <th>DEF</th>\n",
              "      <th>ntis</th>\n",
              "      <th>excessR</th>\n",
              "      <th>excessR_rshift</th>\n",
              "      <th>m(t)</th>\n",
              "    </tr>\n",
              "    <tr>\n",
              "      <th>yyyymm</th>\n",
              "      <th></th>\n",
              "      <th></th>\n",
              "      <th></th>\n",
              "      <th></th>\n",
              "      <th></th>\n",
              "      <th></th>\n",
              "      <th></th>\n",
              "    </tr>\n",
              "  </thead>\n",
              "  <tbody>\n",
              "    <tr>\n",
              "      <th>195910</th>\n",
              "      <td>0.031583</td>\n",
              "      <td>0.0016</td>\n",
              "      <td>0.0071</td>\n",
              "      <td>0.031020</td>\n",
              "      <td>0.009574</td>\n",
              "      <td>0.015886</td>\n",
              "      <td>NaN</td>\n",
              "    </tr>\n",
              "    <tr>\n",
              "      <th>195911</th>\n",
              "      <td>0.031286</td>\n",
              "      <td>0.0017</td>\n",
              "      <td>0.0070</td>\n",
              "      <td>0.029722</td>\n",
              "      <td>0.015886</td>\n",
              "      <td>0.026227</td>\n",
              "      <td>NaN</td>\n",
              "    </tr>\n",
              "    <tr>\n",
              "      <th>195912</th>\n",
              "      <td>0.030556</td>\n",
              "      <td>-0.0002</td>\n",
              "      <td>0.0070</td>\n",
              "      <td>0.022856</td>\n",
              "      <td>0.026227</td>\n",
              "      <td>-0.073233</td>\n",
              "      <td>0.000795</td>\n",
              "    </tr>\n",
              "  </tbody>\n",
              "</table>\n",
              "</div>"
            ],
            "text/plain": [
              "              DP    TERM     DEF      ntis   excessR  excessR_rshift      m(t)\n",
              "yyyymm                                                                        \n",
              "195910  0.031583  0.0016  0.0071  0.031020  0.009574        0.015886       NaN\n",
              "195911  0.031286  0.0017  0.0070  0.029722  0.015886        0.026227       NaN\n",
              "195912  0.030556 -0.0002  0.0070  0.022856  0.026227       -0.073233  0.000795"
            ]
          },
          "execution_count": 45,
          "metadata": {},
          "output_type": "execute_result"
        }
      ],
      "source": [
        "# check the current status\n",
        "df.iloc[117:120]"
      ]
    },
    {
      "cell_type": "code",
      "execution_count": null,
      "id": "7792cc7a",
      "metadata": {
        "id": "7792cc7a"
      },
      "outputs": [],
      "source": [
        "# set the portfolio weight following w(t) = min{1.5, max{0.5, 100*m(t)}}\n",
        "\n",
        "df['weight'] = 0.5\n",
        "df.loc[df['m(t)']>0.005, 'weight'] = 100*df['m(t)']\n",
        "df.loc[df['m(t)']>0.015, 'weight'] = 1.5"
      ]
    },
    {
      "cell_type": "code",
      "execution_count": null,
      "id": "9d2a68ca",
      "metadata": {
        "id": "9d2a68ca"
      },
      "outputs": [],
      "source": [
        "# Thus m(t) means expected return of next month, weight also need to be lagged\n",
        "# calculate the expected excess return from our model (RP)\n",
        "\n",
        "df['weight_lag'] = df['weight'].shift()\n",
        "df['RP'] = df['weight_lag'] * df['excessR']"
      ]
    },
    {
      "cell_type": "code",
      "execution_count": null,
      "id": "b1a2ec5c",
      "metadata": {
        "id": "b1a2ec5c",
        "outputId": "fdf538fa-a3b6-4d0d-ed63-bb7d2ba3b18a"
      },
      "outputs": [
        {
          "data": {
            "text/html": [
              "<div>\n",
              "<style scoped>\n",
              "    .dataframe tbody tr th:only-of-type {\n",
              "        vertical-align: middle;\n",
              "    }\n",
              "\n",
              "    .dataframe tbody tr th {\n",
              "        vertical-align: top;\n",
              "    }\n",
              "\n",
              "    .dataframe thead th {\n",
              "        text-align: right;\n",
              "    }\n",
              "</style>\n",
              "<table border=\"1\" class=\"dataframe\">\n",
              "  <thead>\n",
              "    <tr style=\"text-align: right;\">\n",
              "      <th></th>\n",
              "      <th>DP</th>\n",
              "      <th>TERM</th>\n",
              "      <th>DEF</th>\n",
              "      <th>ntis</th>\n",
              "      <th>excessR</th>\n",
              "      <th>excessR_rshift</th>\n",
              "      <th>m(t)</th>\n",
              "      <th>weight</th>\n",
              "      <th>weight_lag</th>\n",
              "      <th>RP</th>\n",
              "    </tr>\n",
              "    <tr>\n",
              "      <th>yyyymm</th>\n",
              "      <th></th>\n",
              "      <th></th>\n",
              "      <th></th>\n",
              "      <th></th>\n",
              "      <th></th>\n",
              "      <th></th>\n",
              "      <th></th>\n",
              "      <th></th>\n",
              "      <th></th>\n",
              "      <th></th>\n",
              "    </tr>\n",
              "  </thead>\n",
              "  <tbody>\n",
              "    <tr>\n",
              "      <th>195912</th>\n",
              "      <td>0.030556</td>\n",
              "      <td>-0.0002</td>\n",
              "      <td>0.0070</td>\n",
              "      <td>0.022856</td>\n",
              "      <td>0.026227</td>\n",
              "      <td>-0.073233</td>\n",
              "      <td>0.000795</td>\n",
              "      <td>0.500000</td>\n",
              "      <td>0.500000</td>\n",
              "      <td>0.013114</td>\n",
              "    </tr>\n",
              "    <tr>\n",
              "      <th>196001</th>\n",
              "      <td>0.033567</td>\n",
              "      <td>0.0006</td>\n",
              "      <td>0.0073</td>\n",
              "      <td>0.022116</td>\n",
              "      <td>-0.073233</td>\n",
              "      <td>0.011022</td>\n",
              "      <td>-0.001620</td>\n",
              "      <td>0.500000</td>\n",
              "      <td>0.500000</td>\n",
              "      <td>-0.036616</td>\n",
              "    </tr>\n",
              "    <tr>\n",
              "      <th>196002</th>\n",
              "      <td>0.033915</td>\n",
              "      <td>0.0033</td>\n",
              "      <td>0.0078</td>\n",
              "      <td>0.024037</td>\n",
              "      <td>0.011022</td>\n",
              "      <td>-0.016066</td>\n",
              "      <td>0.002149</td>\n",
              "      <td>0.500000</td>\n",
              "      <td>0.500000</td>\n",
              "      <td>0.005511</td>\n",
              "    </tr>\n",
              "    <tr>\n",
              "      <th>196003</th>\n",
              "      <td>0.035056</td>\n",
              "      <td>0.0080</td>\n",
              "      <td>0.0076</td>\n",
              "      <td>0.025593</td>\n",
              "      <td>-0.016066</td>\n",
              "      <td>-0.018013</td>\n",
              "      <td>0.006337</td>\n",
              "      <td>0.633692</td>\n",
              "      <td>0.500000</td>\n",
              "      <td>-0.008033</td>\n",
              "    </tr>\n",
              "    <tr>\n",
              "      <th>196004</th>\n",
              "      <td>0.035743</td>\n",
              "      <td>0.0103</td>\n",
              "      <td>0.0075</td>\n",
              "      <td>0.025577</td>\n",
              "      <td>-0.018013</td>\n",
              "      <td>0.030813</td>\n",
              "      <td>0.009324</td>\n",
              "      <td>0.932387</td>\n",
              "      <td>0.633692</td>\n",
              "      <td>-0.011415</td>\n",
              "    </tr>\n",
              "    <tr>\n",
              "      <th>196005</th>\n",
              "      <td>0.034868</td>\n",
              "      <td>0.0088</td>\n",
              "      <td>0.0082</td>\n",
              "      <td>0.024414</td>\n",
              "      <td>0.030813</td>\n",
              "      <td>0.019402</td>\n",
              "      <td>0.009463</td>\n",
              "      <td>0.946304</td>\n",
              "      <td>0.932387</td>\n",
              "      <td>0.028730</td>\n",
              "    </tr>\n",
              "    <tr>\n",
              "      <th>196006</th>\n",
              "      <td>0.034259</td>\n",
              "      <td>0.0161</td>\n",
              "      <td>0.0081</td>\n",
              "      <td>0.024270</td>\n",
              "      <td>0.019402</td>\n",
              "      <td>-0.024248</td>\n",
              "      <td>0.019290</td>\n",
              "      <td>1.500000</td>\n",
              "      <td>0.946304</td>\n",
              "      <td>0.018360</td>\n",
              "    </tr>\n",
              "    <tr>\n",
              "      <th>196007</th>\n",
              "      <td>0.035129</td>\n",
              "      <td>0.0152</td>\n",
              "      <td>0.0081</td>\n",
              "      <td>0.025778</td>\n",
              "      <td>-0.024248</td>\n",
              "      <td>0.029767</td>\n",
              "      <td>0.015617</td>\n",
              "      <td>1.500000</td>\n",
              "      <td>1.500000</td>\n",
              "      <td>-0.036372</td>\n",
              "    </tr>\n",
              "    <tr>\n",
              "      <th>196008</th>\n",
              "      <td>0.034235</td>\n",
              "      <td>0.0160</td>\n",
              "      <td>0.0080</td>\n",
              "      <td>0.025196</td>\n",
              "      <td>0.029767</td>\n",
              "      <td>-0.060313</td>\n",
              "      <td>0.017492</td>\n",
              "      <td>1.500000</td>\n",
              "      <td>1.500000</td>\n",
              "      <td>0.044651</td>\n",
              "    </tr>\n",
              "    <tr>\n",
              "      <th>196009</th>\n",
              "      <td>0.036435</td>\n",
              "      <td>0.0139</td>\n",
              "      <td>0.0076</td>\n",
              "      <td>0.028312</td>\n",
              "      <td>-0.060313</td>\n",
              "      <td>-0.003279</td>\n",
              "      <td>0.009239</td>\n",
              "      <td>0.923924</td>\n",
              "      <td>1.500000</td>\n",
              "      <td>-0.090469</td>\n",
              "    </tr>\n",
              "  </tbody>\n",
              "</table>\n",
              "</div>"
            ],
            "text/plain": [
              "              DP    TERM     DEF      ntis   excessR  excessR_rshift  \\\n",
              "yyyymm                                                                 \n",
              "195912  0.030556 -0.0002  0.0070  0.022856  0.026227       -0.073233   \n",
              "196001  0.033567  0.0006  0.0073  0.022116 -0.073233        0.011022   \n",
              "196002  0.033915  0.0033  0.0078  0.024037  0.011022       -0.016066   \n",
              "196003  0.035056  0.0080  0.0076  0.025593 -0.016066       -0.018013   \n",
              "196004  0.035743  0.0103  0.0075  0.025577 -0.018013        0.030813   \n",
              "196005  0.034868  0.0088  0.0082  0.024414  0.030813        0.019402   \n",
              "196006  0.034259  0.0161  0.0081  0.024270  0.019402       -0.024248   \n",
              "196007  0.035129  0.0152  0.0081  0.025778 -0.024248        0.029767   \n",
              "196008  0.034235  0.0160  0.0080  0.025196  0.029767       -0.060313   \n",
              "196009  0.036435  0.0139  0.0076  0.028312 -0.060313       -0.003279   \n",
              "\n",
              "            m(t)    weight  weight_lag        RP  \n",
              "yyyymm                                            \n",
              "195912  0.000795  0.500000    0.500000  0.013114  \n",
              "196001 -0.001620  0.500000    0.500000 -0.036616  \n",
              "196002  0.002149  0.500000    0.500000  0.005511  \n",
              "196003  0.006337  0.633692    0.500000 -0.008033  \n",
              "196004  0.009324  0.932387    0.633692 -0.011415  \n",
              "196005  0.009463  0.946304    0.932387  0.028730  \n",
              "196006  0.019290  1.500000    0.946304  0.018360  \n",
              "196007  0.015617  1.500000    1.500000 -0.036372  \n",
              "196008  0.017492  1.500000    1.500000  0.044651  \n",
              "196009  0.009239  0.923924    1.500000 -0.090469  "
            ]
          },
          "execution_count": 48,
          "metadata": {},
          "output_type": "execute_result"
        }
      ],
      "source": [
        "# check the current status\n",
        "\n",
        "df.iloc[119:].head(10)"
      ]
    },
    {
      "cell_type": "code",
      "execution_count": null,
      "id": "bb0c8fea",
      "metadata": {
        "id": "bb0c8fea",
        "outputId": "8fe5dd64-4437-414d-c1b5-0d96acc17792"
      },
      "outputs": [
        {
          "data": {
            "text/html": [
              "<div>\n",
              "<style scoped>\n",
              "    .dataframe tbody tr th:only-of-type {\n",
              "        vertical-align: middle;\n",
              "    }\n",
              "\n",
              "    .dataframe tbody tr th {\n",
              "        vertical-align: top;\n",
              "    }\n",
              "\n",
              "    .dataframe thead th {\n",
              "        text-align: right;\n",
              "    }\n",
              "</style>\n",
              "<table border=\"1\" class=\"dataframe\">\n",
              "  <thead>\n",
              "    <tr style=\"text-align: right;\">\n",
              "      <th></th>\n",
              "      <th>excessR</th>\n",
              "      <th>RP</th>\n",
              "    </tr>\n",
              "  </thead>\n",
              "  <tbody>\n",
              "    <tr>\n",
              "      <th>count</th>\n",
              "      <td>744.000000</td>\n",
              "      <td>744.000000</td>\n",
              "    </tr>\n",
              "    <tr>\n",
              "      <th>mean</th>\n",
              "      <td>0.005782</td>\n",
              "      <td>0.006626</td>\n",
              "    </tr>\n",
              "    <tr>\n",
              "      <th>std</th>\n",
              "      <td>0.042822</td>\n",
              "      <td>0.041166</td>\n",
              "    </tr>\n",
              "    <tr>\n",
              "      <th>min</th>\n",
              "      <td>-0.221795</td>\n",
              "      <td>-0.200103</td>\n",
              "    </tr>\n",
              "    <tr>\n",
              "      <th>25%</th>\n",
              "      <td>-0.018287</td>\n",
              "      <td>-0.013748</td>\n",
              "    </tr>\n",
              "    <tr>\n",
              "      <th>50%</th>\n",
              "      <td>0.008970</td>\n",
              "      <td>0.005739</td>\n",
              "    </tr>\n",
              "    <tr>\n",
              "      <th>75%</th>\n",
              "      <td>0.032270</td>\n",
              "      <td>0.025821</td>\n",
              "    </tr>\n",
              "    <tr>\n",
              "      <th>max</th>\n",
              "      <td>0.163013</td>\n",
              "      <td>0.193341</td>\n",
              "    </tr>\n",
              "  </tbody>\n",
              "</table>\n",
              "</div>"
            ],
            "text/plain": [
              "          excessR          RP\n",
              "count  744.000000  744.000000\n",
              "mean     0.005782    0.006626\n",
              "std      0.042822    0.041166\n",
              "min     -0.221795   -0.200103\n",
              "25%     -0.018287   -0.013748\n",
              "50%      0.008970    0.005739\n",
              "75%      0.032270    0.025821\n",
              "max      0.163013    0.193341"
            ]
          },
          "execution_count": 49,
          "metadata": {},
          "output_type": "execute_result"
        }
      ],
      "source": [
        "# We assess these strategies starting from January of 1960, where m(t) exist.\n",
        "# comparing mean and standard deviation of both strategies\n",
        "\n",
        "df.loc[196001:][['excessR','RP']].describe()\n"
      ]
    },
    {
      "cell_type": "markdown",
      "id": "b052a144",
      "metadata": {
        "id": "b052a144"
      },
      "source": [
        "#### Buy & Hold strategy\n",
        " * Daily excess return mean : 0.5782% \n",
        " * Daily standard deviation : 0.042822 <br>\n",
        "<br>\n",
        "#### Expected return strategy \n",
        " * Daily return mean : 0.6626%\n",
        " * Daily standard deviation : 0.041166\n",
        "\n"
      ]
    },
    {
      "cell_type": "code",
      "execution_count": null,
      "id": "3e00e703",
      "metadata": {
        "id": "3e00e703",
        "outputId": "a2d2f77b-d59e-4117-9d50-4526b5096f4d"
      },
      "outputs": [
        {
          "data": {
            "text/plain": [
              "excessR    0.135030\n",
              "RP         0.160946\n",
              "dtype: float64"
            ]
          },
          "execution_count": 50,
          "metadata": {},
          "output_type": "execute_result"
        }
      ],
      "source": [
        "# Calculating sharpe ratio\n",
        "\n",
        "df.loc[196001:][['excessR','RP']].mean() / df.loc[196001:][['excessR','RP']].std()"
      ]
    },
    {
      "cell_type": "markdown",
      "id": "6a8f3ac2",
      "metadata": {
        "id": "6a8f3ac2"
      },
      "source": [
        "Sharpe ratio increased from 0.135 (Buy and hold) to 0.161 (Portfolio)."
      ]
    },
    {
      "cell_type": "markdown",
      "id": "943194a5",
      "metadata": {
        "id": "943194a5"
      },
      "source": [
        "The above calculation takes an assumption that the excess return on \"cash\" is zero. It means that cash is invested at a Risk-free rate, and that we're investing in a unit portfolio. (sum of w = 1)\n",
        "\n",
        "When we invest less than 100% in the asset, the remaining portion of the portfolio is invested at a Risk-free rate.\n",
        "When we invest more than 100% in the asset, it means that we pay a Risk-free rate."
      ]
    }
  ],
  "metadata": {
    "kernelspec": {
      "display_name": "Python 3 (ipykernel)",
      "language": "python",
      "name": "python3"
    },
    "language_info": {
      "codemirror_mode": {
        "name": "ipython",
        "version": 3
      },
      "file_extension": ".py",
      "mimetype": "text/x-python",
      "name": "python",
      "nbconvert_exporter": "python",
      "pygments_lexer": "ipython3",
      "version": "3.8.5"
    },
    "vscode": {
      "interpreter": {
        "hash": "7d9ad022b6bd2ab9fc513596c6cb529da579d845f615f4255ce0d083cadfb0f4"
      }
    },
    "colab": {
      "provenance": [],
      "include_colab_link": true
    }
  },
  "nbformat": 4,
  "nbformat_minor": 5
}